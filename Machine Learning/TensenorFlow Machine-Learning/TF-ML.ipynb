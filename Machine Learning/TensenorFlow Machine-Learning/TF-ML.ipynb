{
 "cells": [],
 "metadata": {
  "kernelspec": {
   "display_name": "tf_env",
   "language": "python",
   "name": "python3"
  },
  "language_info": {
   "name": "python",
   "version": "3.9.16 (main, Jan 11 2023, 16:16:36) [MSC v.1916 64 bit (AMD64)]"
  },
  "orig_nbformat": 4,
  "vscode": {
   "interpreter": {
    "hash": "90d58285acdf5c88fd6401e38dd5bdc65535248dcdf4053be34d67db4a74c457"
   }
  }
 },
 "nbformat": 4,
 "nbformat_minor": 2
}
