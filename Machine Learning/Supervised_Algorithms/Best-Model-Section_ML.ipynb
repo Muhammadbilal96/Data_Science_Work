{
 "cells": [
  {
   "attachments": {},
   "cell_type": "markdown",
   "metadata": {},
   "source": [
    "## Best Model Selection Machine-Learning"
   ]
  },
  {
   "cell_type": "code",
   "execution_count": 3,
   "metadata": {},
   "outputs": [
    {
     "name": "stdout",
     "output_type": "stream",
     "text": [
      "Accuracy_Score : LogisticRegression : 0.81\n",
      "Accuracy_Score : RandomForestClassifier : 0.77\n",
      "Accuracy_Score : DecisionTreeClassifier : 0.76\n",
      "Accuracy_Score : KNeighborsClassifier : 0.73\n",
      "Accuracy_Score : SVC : 0.61\n"
     ]
    }
   ],
   "source": [
    "import pandas as pd\n",
    "import numpy as np\n",
    "import seaborn as sns\n",
    "import matplotlib.pyplot as plt\n",
    "\n",
    "df = sns.load_dataset('titanic')\n",
    "X = df[['pclass','sex','sibsp','parch','age',]]\n",
    "y = df['survived']\n",
    "X = pd.get_dummies(X , columns=['sex'])\n",
    "X.age.fillna(value = X['age'].mean() , inplace=True)\n",
    "\n",
    "from sklearn.linear_model import LogisticRegression\n",
    "from sklearn.ensemble import RandomForestClassifier\n",
    "from sklearn.svm import SVC\n",
    "from sklearn.neighbors import KNeighborsClassifier\n",
    "from sklearn.tree import DecisionTreeClassifier\n",
    "from sklearn.metrics import accuracy_score , precision_score , recall_score  , f1_score\n",
    "from sklearn.model_selection import train_test_split\n",
    "\n",
    "X_train , X_test , y_train , y_test = train_test_split(X , y , train_size=0.2 , random_state=42)\n",
    "\n",
    "models = [LogisticRegression() , RandomForestClassifier() ,SVC() , KNeighborsClassifier() , DecisionTreeClassifier() ]\n",
    "\n",
    "model_names = ['LogisticRegression','RandomForestClassifier','SVC','KNeighborsClassifier','DecisionTreeClassifier']\n",
    "\n",
    "model_score=[]\n",
    "\n",
    "for model,model_name in zip(models , model_names):\n",
    "    model.fit(X_train , y_train)\n",
    "    y_pred = model.predict(X_test)\n",
    "    accuracy = accuracy_score(y_test , y_pred)\n",
    "    model_score.append([model_name,accuracy])\n",
    "\n",
    "sort_model = sorted(model_score , key=lambda x: x[1] , reverse=True)\n",
    "for model in sort_model:\n",
    "    print(\"Accuracy_Score :\",f'{model[0]} : {model[1]:.2f}')\n",
    "\n",
    "\n",
    "\n"
   ]
  },
  {
   "attachments": {},
   "cell_type": "markdown",
   "metadata": {},
   "source": [
    "## Precision_Score"
   ]
  },
  {
   "cell_type": "code",
   "execution_count": 9,
   "metadata": {},
   "outputs": [
    {
     "name": "stdout",
     "output_type": "stream",
     "text": [
      "Precision_Score : LogisticRegression : 0.83\n",
      "Precision_Score : RandomForestClassifier : 0.73\n",
      "Precision_Score : KNeighborsClassifier : 0.69\n",
      "Precision_Score : DecisionTreeClassifier : 0.69\n",
      "Precision_Score : SVC : 0.00\n"
     ]
    },
    {
     "name": "stderr",
     "output_type": "stream",
     "text": [
      "c:\\Users\\N'S SMART\\AppData\\Local\\Programs\\Python\\Python310\\lib\\site-packages\\sklearn\\metrics\\_classification.py:1344: UndefinedMetricWarning: Precision is ill-defined and being set to 0.0 due to no predicted samples. Use `zero_division` parameter to control this behavior.\n",
      "  _warn_prf(average, modifier, msg_start, len(result))\n"
     ]
    }
   ],
   "source": [
    "models = [LogisticRegression() , RandomForestClassifier() ,SVC() , KNeighborsClassifier() , DecisionTreeClassifier() ]\n",
    "\n",
    "model_names = ['LogisticRegression','RandomForestClassifier','SVC','KNeighborsClassifier','DecisionTreeClassifier']\n",
    "\n",
    "model_score=[]\n",
    "\n",
    "for model,model_name in zip(models , model_names):\n",
    "    model.fit(X_train , y_train)\n",
    "    y_pred = model.predict(X_test)\n",
    "    Precision = precision_score(y_test , y_pred)\n",
    "    model_score.append([model_name,Precision])\n",
    "\n",
    "sort_model = sorted(model_score , key=lambda x: x[1] , reverse=True)\n",
    "for model in sort_model:\n",
    "    print(\"Precision_Score :\",f'{model[0]} : {model[1]:.2f}')"
   ]
  },
  {
   "attachments": {},
   "cell_type": "markdown",
   "metadata": {},
   "source": [
    "## Recall_Score"
   ]
  },
  {
   "cell_type": "code",
   "execution_count": 7,
   "metadata": {},
   "outputs": [
    {
     "name": "stdout",
     "output_type": "stream",
     "text": [
      "Recall_Score : RandomForestClassifier : 0.65\n",
      "Recall_Score : LogisticRegression : 0.63\n",
      "Recall_Score : DecisionTreeClassifier : 0.62\n",
      "Recall_Score : KNeighborsClassifier : 0.54\n",
      "Recall_Score : SVC : 0.00\n"
     ]
    }
   ],
   "source": [
    "models = [LogisticRegression() , RandomForestClassifier() ,SVC() , KNeighborsClassifier() , DecisionTreeClassifier() ]\n",
    "\n",
    "model_names = ['LogisticRegression','RandomForestClassifier','SVC','KNeighborsClassifier','DecisionTreeClassifier']\n",
    "\n",
    "model_score=[]\n",
    "\n",
    "for model,model_name in zip(models , model_names):\n",
    "    model.fit(X_train , y_train)\n",
    "    y_pred = model.predict(X_test)\n",
    "    Recall = recall_score(y_test , y_pred)\n",
    "    model_score.append([model_name,Recall])\n",
    "\n",
    "sort_model = sorted(model_score , key=lambda x: x[1] , reverse=True)\n",
    "for model in sort_model:\n",
    "    print(\"Recall_Score :\",f'{model[0]} : {model[1]:.2f}')"
   ]
  },
  {
   "attachments": {},
   "cell_type": "markdown",
   "metadata": {},
   "source": [
    "## F1_Score"
   ]
  },
  {
   "cell_type": "code",
   "execution_count": 8,
   "metadata": {},
   "outputs": [
    {
     "name": "stdout",
     "output_type": "stream",
     "text": [
      "F1_Score : LogisticRegression : 0.72\n",
      "F1_Score : RandomForestClassifier : 0.69\n",
      "F1_Score : DecisionTreeClassifier : 0.68\n",
      "F1_Score : KNeighborsClassifier : 0.61\n",
      "F1_Score : SVC : 0.00\n"
     ]
    }
   ],
   "source": [
    "models = [LogisticRegression() , RandomForestClassifier() ,SVC() , KNeighborsClassifier() , DecisionTreeClassifier() ]\n",
    "\n",
    "model_names = ['LogisticRegression','RandomForestClassifier','SVC','KNeighborsClassifier','DecisionTreeClassifier']\n",
    "\n",
    "model_score=[]\n",
    "\n",
    "for model,model_name in zip(models , model_names):\n",
    "    model.fit(X_train , y_train)\n",
    "    y_pred = model.predict(X_test)\n",
    "    F1 = f1_score(y_test , y_pred)\n",
    "    model_score.append([model_name,F1])\n",
    "\n",
    "sort_model = sorted(model_score , key=lambda x: x[1] , reverse=True)\n",
    "for model in sort_model:\n",
    "    print(\"F1_Score :\",f'{model[0]} : {model[1]:.2f}')"
   ]
  }
 ],
 "metadata": {
  "kernelspec": {
   "display_name": "Python 3",
   "language": "python",
   "name": "python3"
  },
  "language_info": {
   "codemirror_mode": {
    "name": "ipython",
    "version": 3
   },
   "file_extension": ".py",
   "mimetype": "text/x-python",
   "name": "python",
   "nbconvert_exporter": "python",
   "pygments_lexer": "ipython3",
   "version": "3.10.5"
  },
  "orig_nbformat": 4,
  "vscode": {
   "interpreter": {
    "hash": "4c0a5c17eff43f04ab5b514cc272ecb88b141a5b90d6f43d2fdda3245ef9383f"
   }
  }
 },
 "nbformat": 4,
 "nbformat_minor": 2
}
