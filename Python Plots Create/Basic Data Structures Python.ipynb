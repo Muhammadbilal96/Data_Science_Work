{
 "cells": [
  {
   "cell_type": "markdown",
   "id": "5db6d44b",
   "metadata": {},
   "source": [
    "# Basic Data Structures In Python\n",
    "\n",
    "\n",
    "1- Tuple\n",
    "2- List\n",
    "3- Dictionary\n",
    "4- set\n",
    "\n",
    "\n"
   ]
  },
  {
   "cell_type": "markdown",
   "id": "4a9993c1",
   "metadata": {},
   "source": [
    "\n",
    "# Tuple\n",
    "\n",
    "@ ordered collection of elements.\n",
    "\n",
    "@ enclosed in () rounded braces.\n",
    "\n",
    "@ Diffrenet Kind of elements can be Stored.\n",
    "\n",
    "@ once element are stored you not change them.\n"
   ]
  },
  {
   "cell_type": "code",
   "execution_count": 1,
   "id": "44684391",
   "metadata": {},
   "outputs": [
    {
     "data": {
      "text/plain": [
       "(1, 'python', True, 1.4)"
      ]
     },
     "execution_count": 1,
     "metadata": {},
     "output_type": "execute_result"
    }
   ],
   "source": [
    "tup1 = (1 , 'python' , True , 1.4)\n",
    "tup1"
   ]
  },
  {
   "cell_type": "code",
   "execution_count": 2,
   "id": "f64c4183",
   "metadata": {},
   "outputs": [
    {
     "data": {
      "text/plain": [
       "tuple"
      ]
     },
     "execution_count": 2,
     "metadata": {},
     "output_type": "execute_result"
    }
   ],
   "source": [
    "# type of tuple\n",
    "type(tup1)"
   ]
  },
  {
   "cell_type": "code",
   "execution_count": null,
   "id": "5526958b",
   "metadata": {},
   "outputs": [],
   "source": []
  },
  {
   "cell_type": "code",
   "execution_count": null,
   "id": "b0d248d1",
   "metadata": {},
   "outputs": [],
   "source": []
  },
  {
   "cell_type": "code",
   "execution_count": null,
   "id": "688f853f",
   "metadata": {},
   "outputs": [],
   "source": []
  }
 ],
 "metadata": {
  "kernelspec": {
   "display_name": "Python 3 (ipykernel)",
   "language": "python",
   "name": "python3"
  },
  "language_info": {
   "codemirror_mode": {
    "name": "ipython",
    "version": 3
   },
   "file_extension": ".py",
   "mimetype": "text/x-python",
   "name": "python",
   "nbconvert_exporter": "python",
   "pygments_lexer": "ipython3",
   "version": "3.9.13"
  }
 },
 "nbformat": 4,
 "nbformat_minor": 5
}
